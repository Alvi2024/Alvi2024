{
  "cells": [
    {
      "cell_type": "markdown",
      "id": "corporate-smell",
      "metadata": {
        "id": "corporate-smell"
      },
      "source": [
        "# Assignment 3 - ANOVA\n",
        "\n",
        "5PAM2024 - Statistical Modelling\n",
        "\n",
        "Name Surname Student ID"
      ]
    },
    {
      "cell_type": "markdown",
      "id": "proof-oxygen",
      "metadata": {
        "id": "proof-oxygen"
      },
      "source": [
        "---"
      ]
    },
    {
      "cell_type": "markdown",
      "id": "smart-salmon",
      "metadata": {
        "id": "smart-salmon"
      },
      "source": [
        "A controlled clinical trial was set up to investigate effects of two different drugs, to assess the relative benefits of competing drug administration strategies, and to establish the optimal treatment strategy. The clinical data were recorded in relative units (greater values – better results), and are given in a csv file in the following form:\n",
        "\n",
        "$$\n",
        "\\begin{array}{lccc}\n",
        "&  \\text{Drug A} & \\text{Drug B} & \\text{Control} \\\\ \\hline\n",
        "& y_{111} & y_{211} & y_{311} \\\\\n",
        "\\text{Strategy 1} & \\vdots & \\vdots & \\vdots \\\\\n",
        "& y_{11n} & y_{21n} & y_{31n} \\\\ \\hline\n",
        "& y_{121} & y_{221} & y_{321} \\\\\n",
        "\\text{Strategy 2} & \\vdots & \\vdots & \\vdots \\\\\n",
        "& y_{12n} & y_{22n} & y_{32n} \\\\ \\hline\n",
        "\\end{array}\n",
        "$$\n",
        "\n",
        "<br>\n",
        "\n",
        "Your tasks are:\n",
        "\n",
        "- to investigate if there are statistically significant differences\n",
        "    - between effects of the three treatment groups, and\n",
        "    - between effects of the two blocks\n",
        "- to use linear contrasts to investigate if there are statistically significant differences\n",
        "    - between effects of the control group and both drug groups (i.e. control vs drug A and B), and\n",
        "    - between effects of the two drug groups (i.e. drug A vs drug B)\n",
        "\n",
        "You should approach these tasks using additive and interacting two-way ANOVA models. Use α=5%.<br>\n",
        "All computations must be done manually. You can use built-in statistical functions to verify your results and for graphical analysis only."
      ]
    },
    {
      "cell_type": "markdown",
      "id": "alone-february",
      "metadata": {
        "id": "alone-february"
      },
      "source": [
        "---"
      ]
    },
    {
      "cell_type": "markdown",
      "id": "extensive-looking",
      "metadata": {
        "id": "extensive-looking"
      },
      "source": [
        "## 1. Additive Two-way ANOVA"
      ]
    },
    {
      "cell_type": "markdown",
      "id": "gorgeous-hamburg",
      "metadata": {
        "id": "gorgeous-hamburg"
      },
      "source": [
        "### 1.1. Analysis of the group and block effects"
      ]
    },
    {
      "cell_type": "code",
      "execution_count": 1,
      "id": "dried-methodology",
      "metadata": {
        "colab": {
          "base_uri": "https://localhost:8080/"
        },
        "id": "dried-methodology",
        "outputId": "012ad693-841a-4558-d46e-55efb5fc04b2"
      },
      "outputs": [
        {
          "output_type": "stream",
          "name": "stderr",
          "text": [
            "\n",
            "Attaching package: ‘dplyr’\n",
            "\n",
            "\n",
            "The following objects are masked from ‘package:stats’:\n",
            "\n",
            "    filter, lag\n",
            "\n",
            "\n",
            "The following objects are masked from ‘package:base’:\n",
            "\n",
            "    intersect, setdiff, setequal, union\n",
            "\n",
            "\n"
          ]
        },
        {
          "output_type": "stream",
          "name": "stdout",
          "text": [
            "Total observations: 90 \n",
            "    \n",
            "     DrugA DrugB Control\n",
            "  S1    15    15      15\n",
            "  S2    15    15      15\n",
            "\u001b[90m# A tibble: 6 × 3\u001b[39m\n",
            "  Strategy Treatment Value\n",
            "  \u001b[3m\u001b[90m<fct>\u001b[39m\u001b[23m    \u001b[3m\u001b[90m<fct>\u001b[39m\u001b[23m     \u001b[3m\u001b[90m<dbl>\u001b[39m\u001b[23m\n",
            "\u001b[90m1\u001b[39m S1       DrugA      2.56\n",
            "\u001b[90m2\u001b[39m S1       DrugB      2.12\n",
            "\u001b[90m3\u001b[39m S1       Control    2.52\n",
            "\u001b[90m4\u001b[39m S1       DrugA      5.04\n",
            "\u001b[90m5\u001b[39m S1       DrugB      5.66\n",
            "\u001b[90m6\u001b[39m S1       Control    1.13\n",
            "\u001b[90m# A tibble: 6 × 3\u001b[39m\n",
            "  Strategy Treatment  mean\n",
            "  \u001b[3m\u001b[90m<fct>\u001b[39m\u001b[23m    \u001b[3m\u001b[90m<fct>\u001b[39m\u001b[23m     \u001b[3m\u001b[90m<dbl>\u001b[39m\u001b[23m\n",
            "\u001b[90m1\u001b[39m S1       DrugA      4.76\n",
            "\u001b[90m2\u001b[39m S1       DrugB      4.00\n",
            "\u001b[90m3\u001b[39m S1       Control    1.86\n",
            "\u001b[90m4\u001b[39m S2       DrugA      7.82\n",
            "\u001b[90m5\u001b[39m S2       DrugB      3.82\n",
            "\u001b[90m6\u001b[39m S2       Control    1.64\n",
            "\u001b[90m# A tibble: 6 × 4\u001b[39m\n",
            "  Strategy Treatment Value cell_mean\n",
            "  \u001b[3m\u001b[90m<fct>\u001b[39m\u001b[23m    \u001b[3m\u001b[90m<fct>\u001b[39m\u001b[23m     \u001b[3m\u001b[90m<dbl>\u001b[39m\u001b[23m     \u001b[3m\u001b[90m<dbl>\u001b[39m\u001b[23m\n",
            "\u001b[90m1\u001b[39m S1       DrugA      2.56      4.76\n",
            "\u001b[90m2\u001b[39m S1       DrugB      2.12      4.00\n",
            "\u001b[90m3\u001b[39m S1       Control    2.52      1.86\n",
            "\u001b[90m4\u001b[39m S1       DrugA      5.04      4.76\n",
            "\u001b[90m5\u001b[39m S1       DrugB      5.66      4.00\n",
            "\u001b[90m6\u001b[39m S1       Control    1.13      1.86\n",
            "     Source Df       SS       MS       F      P\n",
            "1  Strategy  1  17.7956  17.7956  8.3885 0.0048\n",
            "2 Treatment  2 309.6527 154.8263 72.9827 0.0000\n",
            "3     Error 84 178.1986   2.1214      NA     NA\n",
            "4     Total 89 558.7912       NA      NA     NA\n",
            "            Df Sum Sq Mean Sq F value Pr(>F)    \n",
            "Strategy     1   17.8   17.80   6.615 0.0118 *  \n",
            "Treatment    2  309.6  154.83  57.556 <2e-16 ***\n",
            "Residuals   86  231.3    2.69                   \n",
            "---\n",
            "Signif. codes:  0 ‘***’ 0.001 ‘**’ 0.01 ‘*’ 0.05 ‘.’ 0.1 ‘ ’ 1\n"
          ]
        }
      ],
      "source": [
        "# Test the significance of group and block effects - 2 marks\n",
        "\n",
        "# Load required libraries\n",
        "library(dplyr)\n",
        "library(tidyr)\n",
        "\n",
        "# Load the dataset\n",
        "url <- \"https://raw.githubusercontent.com/uqglmn/sm/refs/heads/main/A3/A3_09.csv\"\n",
        "data <- read.csv(url)\n",
        "\n",
        "# Reshape data from wide to long format\n",
        "data_long <- data %>%\n",
        "  pivot_longer(cols = c(DrugA, DrugB, Control),\n",
        "               names_to = \"Treatment\",\n",
        "               values_to = \"Value\") %>%\n",
        "  mutate(Strategy = factor(Strategy, levels = c(\"S1\", \"S2\")),\n",
        "         Treatment = factor(Treatment, levels = c(\"DrugA\", \"DrugB\", \"Control\")))\n",
        "\n",
        "# Verify data structure\n",
        "cat(\"Total observations:\", nrow(data_long), \"\\n\")\n",
        "print(table(data_long$Strategy, data_long$Treatment))\n",
        "print(head(data_long))\n",
        "\n",
        "# Compute cell means\n",
        "cell_means <- data_long %>%\n",
        "  group_by(Strategy, Treatment) %>%\n",
        "  summarise(mean = mean(Value), .groups = \"drop\")\n",
        "print(cell_means)\n",
        "\n",
        "# Marginal means for strategies\n",
        "strategy_means <- data_long %>%\n",
        "  group_by(Strategy) %>%\n",
        "  summarise(mean = mean(Value), .groups = \"drop\")\n",
        "\n",
        "# Marginal means for treatments\n",
        "treatment_means <- data_long %>%\n",
        "  group_by(Treatment) %>%\n",
        "  summarise(mean = mean(Value), .groups = \"drop\")\n",
        "\n",
        "# Grand mean\n",
        "grand_mean <- mean(data_long$Value)\n",
        "\n",
        "# Parameters\n",
        "I <- 2  # Number of strategies\n",
        "J <- 3  # Number of treatments\n",
        "n <- 15  # Replicates per cell\n",
        "\n",
        "# Sum of Squares\n",
        "# SS_A: Strategies\n",
        "SS_A <- J * n * sum((strategy_means$mean - grand_mean)^2)\n",
        "\n",
        "# SS_B: Treatments\n",
        "SS_B <- I * n * sum((treatment_means$mean - grand_mean)^2)\n",
        "\n",
        "# SST: Total\n",
        "SST <- sum((data_long$Value - grand_mean)^2)\n",
        "\n",
        "# SSE: Error\n",
        "# Join cell means to compute residuals\n",
        "data_long <- data_long %>%\n",
        "  left_join(cell_means, by = c(\"Strategy\", \"Treatment\"))\n",
        "colnames(data_long)[which(colnames(data_long) == \"mean\")] <- \"cell_mean\"\n",
        "print(head(data_long))  # Verify join worked\n",
        "SSE <- sum((data_long$Value - data_long$cell_mean)^2)\n",
        "\n",
        "# Degrees of Freedom\n",
        "df_A <- I - 1\n",
        "df_B <- J - 1\n",
        "df_E <- I * J * (n - 1)\n",
        "df_T <- I * J * n - 1\n",
        "\n",
        "# Mean Squares\n",
        "MS_A <- SS_A / df_A\n",
        "MS_B <- SS_B / df_B\n",
        "MS_E <- SSE / df_E\n",
        "\n",
        "# F-statistics\n",
        "F_A <- MS_A / MS_E\n",
        "F_B <- MS_B / MS_E\n",
        "\n",
        "# P-values\n",
        "p_A <- pf(F_A, df_A, df_E, lower.tail = FALSE)\n",
        "p_B <- pf(F_B, df_B, df_E, lower.tail = FALSE)\n",
        "\n",
        "# ANOVA table\n",
        "anova_table <- data.frame(\n",
        "  Source = c(\"Strategy\", \"Treatment\", \"Error\", \"Total\"),\n",
        "  Df = c(df_A, df_B, df_E, df_T),\n",
        "  SS = round(c(SS_A, SS_B, SSE, SST), 4),\n",
        "  MS = round(c(MS_A, MS_B, MS_E, NA), 4),\n",
        "  F = round(c(F_A, F_B, NA, NA), 4),\n",
        "  P = round(c(p_A, p_B, NA, NA), 4)\n",
        ")\n",
        "print(anova_table)\n",
        "\n",
        "# Verification\n",
        "model_additive <- aov(Value ~ Strategy + Treatment, data = data_long)\n",
        "print(summary(model_additive))\n"
      ]
    },
    {
      "cell_type": "markdown",
      "id": "947a2c83-a3d9-4179-901b-f28631af6dae",
      "metadata": {
        "id": "947a2c83-a3d9-4179-901b-f28631af6dae"
      },
      "source": [
        "**Conclusions:**\n",
        "\n",
        "-\n",
        "\n",
        "-\n",
        "\n",
        "-"
      ]
    },
    {
      "cell_type": "markdown",
      "id": "liked-classics",
      "metadata": {
        "id": "liked-classics"
      },
      "source": [
        "### 1.2. Residual analysis"
      ]
    },
    {
      "cell_type": "code",
      "execution_count": 3,
      "id": "commercial-bracelet",
      "metadata": {
        "colab": {
          "base_uri": "https://localhost:8080/",
          "height": 819
        },
        "id": "commercial-bracelet",
        "outputId": "ec3295b4-f1aa-4a02-d490-fafa5b15f73c"
      },
      "outputs": [
        {
          "output_type": "stream",
          "name": "stdout",
          "text": [
            "\u001b[90m# A tibble: 6 × 3\u001b[39m\n",
            "  Strategy Treatment variance\n",
            "  \u001b[3m\u001b[90m<fct>\u001b[39m\u001b[23m    \u001b[3m\u001b[90m<fct>\u001b[39m\u001b[23m        \u001b[3m\u001b[90m<dbl>\u001b[39m\u001b[23m\n",
            "\u001b[90m1\u001b[39m S1       DrugA         2.95\n",
            "\u001b[90m2\u001b[39m S1       DrugB         3.02\n",
            "\u001b[90m3\u001b[39m S1       Control       1.37\n",
            "\u001b[90m4\u001b[39m S2       DrugA         2.53\n",
            "\u001b[90m5\u001b[39m S2       DrugB         1.43\n",
            "\u001b[90m6\u001b[39m S2       Control       1.43\n",
            "Variance ratio (max/min): 2.206627 \n",
            "\n",
            "\tShapiro-Wilk normality test\n",
            "\n",
            "data:  data_long$residual\n",
            "W = 0.98195, p-value = 0.2463\n",
            "\n",
            "\n",
            "\tBartlett test of homogeneity of variances\n",
            "\n",
            "data:  residual by interaction(Strategy, Treatment)\n",
            "Bartlett's K-squared = 5.026, df = 5, p-value = 0.4127\n",
            "\n"
          ]
        },
        {
          "output_type": "display_data",
          "data": {
            "text/plain": [
              "Plot with title “Q-Q Plot of Residuals”"
            ],
            "image/png": "[encoded data removed]"
          },
          "metadata": {
            "image/png": {
              "width": 420,
              "height": 420
            }
          }
        }
      ],
      "source": [
        "# Are the assumptions of normality and equal variances met? - 1 mark\n",
        "\n",
        "# Compute residuals\n",
        "data_long <- data_long %>%\n",
        "  left_join(cell_means %>% rename(cell_mean = mean), by = c(\"Strategy\", \"Treatment\"))\n",
        "data_long$residual <- data_long$Value - data_long$cell_mean\n",
        "\n",
        "# Normality: Visual inspection with Q-Q plot\n",
        "par(mfrow = c(1, 1))\n",
        "qqnorm(data_long$residual, main = \"Q-Q Plot of Residuals\")\n",
        "qqline(data_long$residual, col = \"red\")\n",
        "\n",
        "# Equal variances: Compute variance by Strategy-Treatment group\n",
        "variances <- data_long %>%\n",
        "  group_by(Strategy, Treatment) %>%\n",
        "  summarise(variance = var(residual), .groups = \"drop\")\n",
        "print(variances)\n",
        "\n",
        "# Manual variance ratio (max/min)\n",
        "var_ratio <- max(variances$variance) / min(variances$variance)\n",
        "cat(\"Variance ratio (max/min):\", var_ratio, \"\\n\")\n",
        "\n",
        "# Verification: Shapiro-Wilk test for normality\n",
        "shapiro_test <- shapiro.test(data_long$residual)\n",
        "print(shapiro_test)\n",
        "\n",
        "# Verification: Bartlett's test for equal variances\n",
        "bartlett_test <- bartlett.test(residual ~ interaction(Strategy, Treatment), data = data_long)\n",
        "print(bartlett_test)"
      ]
    },
    {
      "cell_type": "markdown",
      "id": "2273f950-7466-42d0-a11e-c93c7b3e2464",
      "metadata": {
        "id": "2273f950-7466-42d0-a11e-c93c7b3e2464"
      },
      "source": [
        "**Conclusions:**\n",
        "\n",
        "-\n",
        "\n",
        "-\n",
        "\n",
        "-"
      ]
    },
    {
      "cell_type": "markdown",
      "id": "based-foundation",
      "metadata": {
        "id": "based-foundation"
      },
      "source": [
        "### 1.3. A follow-up analysis"
      ]
    },
    {
      "cell_type": "code",
      "execution_count": 4,
      "id": "multiple-savannah",
      "metadata": {
        "colab": {
          "base_uri": "https://localhost:8080/"
        },
        "id": "multiple-savannah",
        "outputId": "8eea8e16-8377-4bf2-e0cd-0ab3dc4841e8"
      },
      "outputs": [
        {
          "output_type": "stream",
          "name": "stdout",
          "text": [
            "\u001b[90m# A tibble: 3 × 2\u001b[39m\n",
            "  Treatment  mean\n",
            "  \u001b[3m\u001b[90m<fct>\u001b[39m\u001b[23m     \u001b[3m\u001b[90m<dbl>\u001b[39m\u001b[23m\n",
            "\u001b[90m1\u001b[39m DrugA      6.29\n",
            "\u001b[90m2\u001b[39m DrugB      3.91\n",
            "\u001b[90m3\u001b[39m Control    1.75\n",
            "          Contrast Estimate     SE       t P\n",
            "1 Control vs Drugs  -3.3502 0.3711 -9.0280 0\n",
            "2   DrugA vs DrugB   2.3830 0.4285  5.5613 0\n"
          ]
        }
      ],
      "source": [
        "# Conduct a linear contrasts analysis - 2 marks\n",
        "# Linear contrasts - 2 marks\n",
        "\n",
        "# Compute treatment means (should already exist from Section 1.1)\n",
        "treatment_means <- data_long %>%\n",
        "  group_by(Treatment) %>%\n",
        "  summarise(mean = mean(Value), .groups = \"drop\")\n",
        "print(treatment_means)\n",
        "\n",
        "# Parameters from Section 1.1\n",
        "I <- 2  # Strategies\n",
        "J <- 3  # Treatments\n",
        "n <- 15  # Replicates per cell\n",
        "MS_E <- 2.7541  # From corrected ANOVA table\n",
        "df_E <- 84\n",
        "\n",
        "# Contrast 1: Control vs. Drugs (DrugA + DrugB)/2\n",
        "# Coefficients: DrugA (-0.5), DrugB (-0.5), Control (1)\n",
        "c1 <- c(-0.5, -0.5, 1)\n",
        "psi1 <- sum(c1 * treatment_means$mean)\n",
        "var_psi1 <- MS_E * sum(c1^2) / (I * n)\n",
        "se_psi1 <- sqrt(var_psi1)\n",
        "t1 <- psi1 / se_psi1\n",
        "p1 <- 2 * pt(abs(t1), df_E, lower.tail = FALSE)\n",
        "\n",
        "# Contrast 2: DrugA vs. DrugB\n",
        "# Coefficients: DrugA (1), DrugB (-1), Control (0)\n",
        "c2 <- c(1, -1, 0)\n",
        "psi2 <- sum(c2 * treatment_means$mean)\n",
        "var_psi2 <- MS_E * sum(c2^2) / (I * n)\n",
        "se_psi2 <- sqrt(var_psi2)\n",
        "t2 <- psi2 / se_psi2\n",
        "p2 <- 2 * pt(abs(t2), df_E, lower.tail = FALSE)\n",
        "\n",
        "# Results table\n",
        "contrasts_table <- data.frame(\n",
        "  Contrast = c(\"Control vs Drugs\", \"DrugA vs DrugB\"),\n",
        "  Estimate = round(c(psi1, psi2), 4),\n",
        "  SE = round(c(se_psi1, se_psi2), 4),\n",
        "  t = round(c(t1, t2), 4),\n",
        "  P = round(c(p1, p2), 4)\n",
        ")\n",
        "print(contrasts_table)"
      ]
    },
    {
      "cell_type": "markdown",
      "id": "201748fa-2b07-4763-be03-bb5e9ff0cf5a",
      "metadata": {
        "id": "201748fa-2b07-4763-be03-bb5e9ff0cf5a"
      },
      "source": [
        "**Conclusions:**\n",
        "\n",
        "-\n",
        "\n",
        "-\n",
        "\n",
        "-"
      ]
    },
    {
      "cell_type": "markdown",
      "id": "silver-genre",
      "metadata": {
        "id": "silver-genre"
      },
      "source": [
        "---"
      ]
    },
    {
      "cell_type": "markdown",
      "id": "surgical-assessment",
      "metadata": {
        "id": "surgical-assessment"
      },
      "source": [
        "## 2. Interacting Two-way ANOVA"
      ]
    },
    {
      "cell_type": "markdown",
      "id": "worst-distributor",
      "metadata": {
        "id": "worst-distributor"
      },
      "source": [
        "### 2.1. Analysis of the group, block and interaction effects"
      ]
    },
    {
      "cell_type": "code",
      "execution_count": 5,
      "id": "appreciated-classroom",
      "metadata": {
        "colab": {
          "base_uri": "https://localhost:8080/"
        },
        "id": "appreciated-classroom",
        "outputId": "7790fb6a-93a7-4a97-8d1e-dcbcf86e118f"
      },
      "outputs": [
        {
          "output_type": "stream",
          "name": "stdout",
          "text": [
            "\u001b[90m# A tibble: 6 × 7\u001b[39m\n",
            "  Strategy Treatment Value cell_mean.x cell_mean.y cell_mean residual\n",
            "  \u001b[3m\u001b[90m<fct>\u001b[39m\u001b[23m    \u001b[3m\u001b[90m<fct>\u001b[39m\u001b[23m     \u001b[3m\u001b[90m<dbl>\u001b[39m\u001b[23m       \u001b[3m\u001b[90m<dbl>\u001b[39m\u001b[23m       \u001b[3m\u001b[90m<dbl>\u001b[39m\u001b[23m     \u001b[3m\u001b[90m<dbl>\u001b[39m\u001b[23m    \u001b[3m\u001b[90m<dbl>\u001b[39m\u001b[23m\n",
            "\u001b[90m1\u001b[39m S1       DrugA      2.56        4.76        4.76      4.76   -\u001b[31m2\u001b[39m\u001b[31m.\u001b[39m\u001b[31m20\u001b[39m \n",
            "\u001b[90m2\u001b[39m S1       DrugB      2.12        4.00        4.00      4.00   -\u001b[31m1\u001b[39m\u001b[31m.\u001b[39m\u001b[31m88\u001b[39m \n",
            "\u001b[90m3\u001b[39m S1       Control    2.52        1.86        1.86      1.86    0.66 \n",
            "\u001b[90m4\u001b[39m S1       DrugA      5.04        4.76        4.76      4.76    0.279\n",
            "\u001b[90m5\u001b[39m S1       DrugB      5.66        4.00        4.00      4.00    1.66 \n",
            "\u001b[90m6\u001b[39m S1       Control    1.13        1.86        1.86      1.86   -\u001b[31m0\u001b[39m\u001b[31m.\u001b[39m\u001b[31m73\u001b[39m \n",
            "\u001b[90m# A tibble: 6 × 3\u001b[39m\n",
            "  Strategy Treatment  mean\n",
            "  \u001b[3m\u001b[90m<fct>\u001b[39m\u001b[23m    \u001b[3m\u001b[90m<fct>\u001b[39m\u001b[23m     \u001b[3m\u001b[90m<dbl>\u001b[39m\u001b[23m\n",
            "\u001b[90m1\u001b[39m S1       DrugA      4.76\n",
            "\u001b[90m2\u001b[39m S1       DrugB      4.00\n",
            "\u001b[90m3\u001b[39m S1       Control    1.86\n",
            "\u001b[90m4\u001b[39m S2       DrugA      7.82\n",
            "\u001b[90m5\u001b[39m S2       DrugB      3.82\n",
            "\u001b[90m6\u001b[39m S2       Control    1.64\n",
            "       Source Df       SS       MS       F      P\n",
            "1    Strategy  1  17.7956  17.7956  8.3885 0.0048\n",
            "2   Treatment  2 309.6527 154.8263 72.9827 0.0000\n",
            "3 Interaction  2  53.1444  26.5722 12.5257 0.0000\n",
            "4       Error 84 178.1986   2.1214      NA     NA\n",
            "5       Total 89 558.7912       NA      NA     NA\n",
            "                   Df Sum Sq Mean Sq F value   Pr(>F)    \n",
            "Strategy            1  17.80   17.80   8.389  0.00481 ** \n",
            "Treatment           2 309.65  154.83  72.983  < 2e-16 ***\n",
            "Strategy:Treatment  2  53.14   26.57  12.526 1.73e-05 ***\n",
            "Residuals          84 178.20    2.12                     \n",
            "---\n",
            "Signif. codes:  0 ‘***’ 0.001 ‘**’ 0.01 ‘*’ 0.05 ‘.’ 0.1 ‘ ’ 1\n"
          ]
        }
      ],
      "source": [
        "# Test the siginificance of group, block and interaction effects - 2 marks\n",
        "\n",
        "\n",
        "# Verify data\n",
        "print(head(data_long))\n",
        "\n",
        "# Recompute means to ensure consistency\n",
        "cell_means <- data_long %>%\n",
        "  group_by(Strategy, Treatment) %>%\n",
        "  summarise(mean = mean(Value), .groups = \"drop\")\n",
        "print(cell_means)\n",
        "\n",
        "strategy_means <- data_long %>%\n",
        "  group_by(Strategy) %>%\n",
        "  summarise(mean = mean(Value), .groups = \"drop\")\n",
        "\n",
        "treatment_means <- data_long %>%\n",
        "  group_by(Treatment) %>%\n",
        "  summarise(mean = mean(Value), .groups = \"drop\")\n",
        "\n",
        "grand_mean <- mean(data_long$Value)\n",
        "\n",
        "# Parameters\n",
        "I <- 2\n",
        "J <- 3\n",
        "n <- 15\n",
        "\n",
        "# Sum of Squares\n",
        "SS_A <- J * n * sum((strategy_means$mean - grand_mean)^2)\n",
        "SS_B <- I * n * sum((treatment_means$mean - grand_mean)^2)\n",
        "SS_cells <- n * sum((cell_means$mean - grand_mean)^2)\n",
        "SS_AB <- SS_cells - SS_A - SS_B\n",
        "SST <- sum((data_long$Value - grand_mean)^2)\n",
        "\n",
        "# Fit the interaction model to get fitted values for SSE\n",
        "model_interaction <- aov(Value ~ Strategy * Treatment, data = data_long)\n",
        "data_long$fitted <- predict(model_interaction)\n",
        "data_long$residual_interaction <- data_long$Value - data_long$fitted\n",
        "SSE <- sum(data_long$residual_interaction^2)\n",
        "\n",
        "# Degrees of Freedom\n",
        "df_A <- I - 1\n",
        "df_B <- J - 1\n",
        "df_AB <- (I - 1) * (J - 1)\n",
        "df_E <- I * J * (n - 1)\n",
        "df_T <- I * J * n - 1\n",
        "\n",
        "# Mean Squares\n",
        "MS_A <- SS_A / df_A\n",
        "MS_B <- SS_B / df_B\n",
        "MS_AB <- SS_AB / df_AB\n",
        "MS_E <- SSE / df_E\n",
        "\n",
        "# F-statistics\n",
        "F_A <- MS_A / MS_E\n",
        "F_B <- MS_B / MS_E\n",
        "F_AB <- MS_AB / MS_E\n",
        "\n",
        "# P-values\n",
        "p_A <- pf(F_A, df_A, df_E, lower.tail = FALSE)\n",
        "p_B <- pf(F_B, df_B, df_E, lower.tail = FALSE)\n",
        "p_AB <- pf(F_AB, df_AB, df_E, lower.tail = FALSE)\n",
        "\n",
        "# ANOVA table\n",
        "anova_table <- data.frame(\n",
        "  Source = c(\"Strategy\", \"Treatment\", \"Interaction\", \"Error\", \"Total\"),\n",
        "  Df = c(df_A, df_B, df_AB, df_E, df_T),\n",
        "  SS = round(c(SS_A, SS_B, SS_AB, SSE, SST), 4),\n",
        "  MS = round(c(MS_A, MS_B, MS_AB, MS_E, NA), 4),\n",
        "  F = round(c(F_A, F_B, F_AB, NA, NA), 4),\n",
        "  P = round(c(p_A, p_B, p_AB, NA, NA), 4)\n",
        ")\n",
        "print(anova_table)\n",
        "\n",
        "# Verification\n",
        "print(summary(model_interaction))\n"
      ]
    },
    {
      "cell_type": "markdown",
      "id": "44ca7f2d-f92a-4811-9bac-f92111341618",
      "metadata": {
        "id": "44ca7f2d-f92a-4811-9bac-f92111341618"
      },
      "source": [
        "**Conclusions:**\n",
        "\n",
        "-\n",
        "\n",
        "-\n",
        "\n",
        "-"
      ]
    },
    {
      "cell_type": "markdown",
      "id": "sudden-baker",
      "metadata": {
        "id": "sudden-baker"
      },
      "source": [
        "### 2.2. Residual analysis"
      ]
    },
    {
      "cell_type": "code",
      "execution_count": 8,
      "id": "registered-pastor",
      "metadata": {
        "colab": {
          "base_uri": "https://localhost:8080/",
          "height": 503
        },
        "id": "registered-pastor",
        "outputId": "f30c1585-279b-41c1-88ae-d301b3b3581f"
      },
      "outputs": [
        {
          "output_type": "stream",
          "name": "stdout",
          "text": [
            "         1          2          3          4          5          6 \n",
            "-2.2013333 -1.8780000  0.6600000  0.2786667  1.6620000 -0.7300000 \n",
            "    Min.  1st Qu.   Median     Mean  3rd Qu.     Max. \n",
            "-3.74800 -0.86633 -0.02267  0.00000  1.11250  2.65000 \n"
          ]
        },
        {
          "output_type": "display_data",
          "data": {
            "text/html": [
              "<strong>null device:</strong> 1"
            ],
            "text/markdown": "**null device:** 1",
            "text/latex": "\\textbf{null device:} 1",
            "text/plain": [
              "null device \n",
              "          1 "
            ]
          },
          "metadata": {}
        },
        {
          "output_type": "display_data",
          "data": {
            "text/html": [
              "<strong>png:</strong> 2"
            ],
            "text/markdown": "**png:** 2",
            "text/latex": "\\textbf{png:} 2",
            "text/plain": [
              "png \n",
              "  2 "
            ]
          },
          "metadata": {}
        },
        {
          "output_type": "stream",
          "name": "stdout",
          "text": [
            "\u001b[90m# A tibble: 6 × 3\u001b[39m\n",
            "  Strategy Treatment variance\n",
            "  \u001b[3m\u001b[90m<fct>\u001b[39m\u001b[23m    \u001b[3m\u001b[90m<fct>\u001b[39m\u001b[23m        \u001b[3m\u001b[90m<dbl>\u001b[39m\u001b[23m\n",
            "\u001b[90m1\u001b[39m S1       DrugA         2.95\n",
            "\u001b[90m2\u001b[39m S1       DrugB         3.02\n",
            "\u001b[90m3\u001b[39m S1       Control       1.37\n",
            "\u001b[90m4\u001b[39m S2       DrugA         2.53\n",
            "\u001b[90m5\u001b[39m S2       DrugB         1.43\n",
            "\u001b[90m6\u001b[39m S2       Control       1.43\n",
            "Variance ratio (max/min): 2.206627 \n",
            "\n",
            "\tShapiro-Wilk normality test\n",
            "\n",
            "data:  data_long$residual_interaction\n",
            "W = 0.98195, p-value = 0.2463\n",
            "\n",
            "\n",
            "\tBartlett test of homogeneity of variances\n",
            "\n",
            "data:  residual_interaction by interaction(Strategy, Treatment)\n",
            "Bartlett's K-squared = 5.026, df = 5, p-value = 0.4127\n",
            "\n"
          ]
        }
      ],
      "source": [
        "# Are the assumptions of normality and equal variances met? - 1 mark\n",
        "\n",
        "data_long$fitted <- predict(model_interaction)\n",
        "data_long$residual_interaction <- data_long$Value - data_long$fitted\n",
        "\n",
        "# Debug: Confirm residuals are correct\n",
        "print(head(data_long$residual_interaction))\n",
        "print(summary(data_long$residual_interaction))\n",
        "\n",
        "# Fix Q-Q plot: Reset graphical parameters and try plotting\n",
        "dev.off()  # Close any existing plotting devices\n",
        "par(mfrow = c(1, 1), mar = c(5, 4, 4, 2) + 0.1)  # Reset margins\n",
        "qqnorm(data_long$residual_interaction, main = \"Q-Q Plot of Residuals (Interaction Model)\")\n",
        "qqline(data_long$residual_interaction, col = \"red\")\n",
        "\n",
        "# If the plot still doesn't show points, save it to a file to force rendering\n",
        "png(\"qqplot_interaction.png\")\n",
        "qqnorm(data_long$residual_interaction, main = \"Q-Q Plot of Residuals (Interaction Model)\")\n",
        "qqline(data_long$residual_interaction, col = \"red\")\n",
        "dev.off()\n",
        "\n",
        "# Compute variances using the correct residuals (residual_interaction)\n",
        "variances_interaction <- data_long %>%\n",
        "  group_by(Strategy, Treatment) %>%\n",
        "  summarise(variance = var(residual_interaction), .groups = \"drop\")\n",
        "print(variances_interaction)\n",
        "\n",
        "# Variance ratio\n",
        "var_ratio_interaction <- max(variances_interaction$variance) / min(variances_interaction$variance)\n",
        "cat(\"Variance ratio (max/min):\", var_ratio_interaction, \"\\n\")\n",
        "\n",
        "# Shapiro-Wilk test\n",
        "shapiro_test_interaction <- shapiro.test(data_long$residual_interaction)\n",
        "print(shapiro_test_interaction)\n",
        "\n",
        "# Bartlett's test\n",
        "bartlett_test_interaction <- bartlett.test(residual_interaction ~ interaction(Strategy, Treatment), data = data_long)\n",
        "print(bartlett_test_interaction)\n"
      ]
    },
    {
      "cell_type": "markdown",
      "id": "6cc730f3-4af5-4479-97e6-afbbc0404c21",
      "metadata": {
        "id": "6cc730f3-4af5-4479-97e6-afbbc0404c21"
      },
      "source": [
        "**Conclusions:**\n",
        "\n",
        "-\n",
        "\n",
        "-\n",
        "\n",
        "-"
      ]
    },
    {
      "cell_type": "markdown",
      "id": "valued-stupid",
      "metadata": {
        "id": "valued-stupid"
      },
      "source": [
        "### 2.3. A follow-up analysis"
      ]
    },
    {
      "cell_type": "code",
      "execution_count": null,
      "id": "lyric-denial",
      "metadata": {
        "id": "lyric-denial"
      },
      "outputs": [],
      "source": [
        "# Conduct a linear contrasts analysis - 2 marks\n"
      ]
    },
    {
      "cell_type": "markdown",
      "id": "52b6014d-d31a-4542-86bf-e974c7d90bf7",
      "metadata": {
        "id": "52b6014d-d31a-4542-86bf-e974c7d90bf7"
      },
      "source": [
        "**Conclusions:**\n",
        "\n",
        "-\n",
        "\n",
        "-\n",
        "\n",
        "-"
      ]
    },
    {
      "cell_type": "markdown",
      "id": "worst-mills",
      "metadata": {
        "id": "worst-mills"
      },
      "source": [
        "---"
      ]
    },
    {
      "cell_type": "markdown",
      "id": "16a8dd58",
      "metadata": {
        "id": "16a8dd58"
      },
      "source": [
        "## Memo"
      ]
    },
    {
      "cell_type": "markdown",
      "id": "0cb36ee9",
      "metadata": {
        "id": "0cb36ee9"
      },
      "source": [
        "- 10% of  marks are allocated for presentation quality of your work\n",
        "- Data must be read directly from the provided github link.\n",
        "- Don't forget to verify your work. Restart the kernel and re-run the whole notebook.\n",
        "- Make a pdf copy of this notebook and submit together with the notebook."
      ]
    },
    {
      "cell_type": "markdown",
      "id": "388aca2c",
      "metadata": {
        "id": "388aca2c"
      },
      "source": [
        "---"
      ]
    }
  ],
  "metadata": {
    "kernelspec": {
      "display_name": "R",
      "name": "ir"
    },
    "language_info": {
      "codemirror_mode": "r",
      "file_extension": ".r",
      "mimetype": "text/x-r-source",
      "name": "R",
      "pygments_lexer": "r",
      "version": "4.3.1"
    },
    "colab": {
      "provenance": []
    }
  },
  "nbformat": 4,
  "nbformat_minor": 5
}